{
 "cells": [
  {
   "cell_type": "markdown",
   "id": "cbc1023d",
   "metadata": {},
   "source": [
    "# Simple Password Generator"
   ]
  },
  {
   "cell_type": "code",
   "execution_count": 99,
   "id": "1b013dd0",
   "metadata": {},
   "outputs": [],
   "source": [
    "import string\n",
    "import random\n",
    "\n",
    "def SimPassGen(length=8,spec=True,exep=[],repe=True):\n",
    "    \n",
    "    #entry check\n",
    "    if length<=1:\n",
    "        print(\"password is too short\")\n",
    "        return 0\n",
    "    \n",
    "    #init variables (not necessary, but useful to have them in one place)\n",
    "    alphabet = ''\n",
    "    password = ''\n",
    "    i=0\n",
    "    \n",
    "    #character list (if something's missing, change special adding string)\n",
    "    letters = string.ascii_letters\n",
    "    numbers = '0123456789'\n",
    "    special = string.punctuation\n",
    "    \n",
    "    #alphabet with no specials\n",
    "    if (spec == False):\n",
    "        if (len(exep)>0):\n",
    "            print(\"If you chose not to have special, please empty the exeption list\")\n",
    "            return 0\n",
    "        \n",
    "        alphabet = letters + numbers\n",
    "    \n",
    "    #alphabet with specials\n",
    "    if (spec == True):\n",
    "        if (len(exep)>0):\n",
    "            for i in exep:\n",
    "                special=special.replace(str(i),'')\n",
    "        \n",
    "        alphabet = letters + numbers + special\n",
    "        \n",
    "    #password generation. Functions differ if permitting repetitions or not\n",
    "    if repe==False:\n",
    "        if length > len(alphabet):\n",
    "            print(\"without repetitions and with these exeptions, your password can only be \",len(alphabet),\" characters long at most\")\n",
    "            return 0\n",
    "        \n",
    "        password+=''.join(random.sample(alphabet,k=length))\n",
    "    \n",
    "    if repe==True:\n",
    "        password+=''.join(random.choices(alphabet,k=length))\n",
    "        \n",
    "    return password"
   ]
  },
  {
   "cell_type": "code",
   "execution_count": 107,
   "id": "a5adb5cc",
   "metadata": {},
   "outputs": [
    {
     "data": {
      "text/plain": [
       "'Vmt49tmp5O7Ge:URo*@G<Z?pf0x?CSmP6DKYFlIS5R;cHf4rB,%C1FF%#=MYvLp10d!Nicz2e9s9X48SaBhHj!$zbEpAcFaTO0eFb=sNW$8W?1pdUhJMv%ZW*;6j2^uQcI_.o#Uw<OIRrMvA^D$.v.6t4pr!&gpg'"
      ]
     },
     "execution_count": 107,
     "metadata": {},
     "output_type": "execute_result"
    }
   ],
   "source": [
    "#length is the number of characters in the password (default is 8)\n",
    "\n",
    "#if spec is True, it will also have special characters (default is True)\n",
    "\n",
    "#if spec is True and you don't want some forbidden characters to appear, add them to the exeption list beteen quotation marks\n",
    "#(default is empty list)\n",
    "\n",
    "#if repe is True, characters may appear more than once, otherwise they won't and max lenght will be set to 94-n. of exeptions\n",
    "#(default is True)\n",
    "\n",
    "#example SimPassGen(length=16,spec=True,exep=['/',','],repet=True)\n",
    "\n",
    "SimPassGen(length=160,spec=True,exep=['[',']','{','}','(',')',\"'\",\"`\",'\"','~',\"\\\\\",'|','/'],repe=True)"
   ]
  }
 ],
 "metadata": {
  "kernelspec": {
   "display_name": "Python 3 (ipykernel)",
   "language": "python",
   "name": "python3"
  },
  "language_info": {
   "codemirror_mode": {
    "name": "ipython",
    "version": 3
   },
   "file_extension": ".py",
   "mimetype": "text/x-python",
   "name": "python",
   "nbconvert_exporter": "python",
   "pygments_lexer": "ipython3",
   "version": "3.10.4"
  }
 },
 "nbformat": 4,
 "nbformat_minor": 5
}
